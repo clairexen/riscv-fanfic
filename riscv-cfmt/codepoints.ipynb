{
 "cells": [
  {
   "cell_type": "code",
   "execution_count": 1,
   "metadata": {},
   "outputs": [
    {
     "name": "stdout",
     "output_type": "stream",
     "text": [
      "Sizes of instruction types:\n",
      "---------------------------\n",
      "c2.0          64 cp\n",
      "c3.0         512 cp (  0.5 kcp)\n",
      "c4.0        4096 cp (  4.0 kcp)\n",
      "-----\n",
      "c2.12     262144 cp (256.0 kcp)\n",
      "c3.9      262144 cp (256.0 kcp)\n",
      "c4.6      262144 cp (256.0 kcp)\n",
      "-----\n",
      "r          32768 cp ( 32.0 kcp)\n",
      "r4       1048576 cp (  1.0 Mcp)\n",
      "i        4194304 cp (  4.0 Mcp)\n"
     ]
    }
   ],
   "source": [
    "unit_k = 1024\n",
    "unit_M = 1024*1024\n",
    "\n",
    "def cp_c2(immsz=12):\n",
    "    return 2**(2*3+immsz)\n",
    "\n",
    "def cp_c3(immsz=9):\n",
    "    return 2**(3*3+immsz)\n",
    "\n",
    "def cp_c4(immsz=6):\n",
    "    return 2**(4*3+immsz)\n",
    "\n",
    "def cp_i(immsz=12):\n",
    "    return 2**(2*5+immsz)\n",
    "\n",
    "def cp_r(immsz=0):\n",
    "    return 2**(3*5+immsz)\n",
    "\n",
    "def cp_r4(immsz=0):\n",
    "    return 2**(4*5+immsz)\n",
    "\n",
    "print(\"Sizes of instruction types:\")\n",
    "print(\"---------------------------\")\n",
    "print(\"c2.0   %9d cp\" % (cp_c2(0)))\n",
    "print(\"c3.0   %9d cp (%5.1f kcp)\" % (cp_c3(0), cp_c3(0)/unit_k))\n",
    "print(\"c4.0   %9d cp (%5.1f kcp)\" % (cp_c4(0), cp_c4(0)/unit_k))\n",
    "print(\"-----\")\n",
    "print(\"c2.12  %9d cp (%5.1f kcp)\" % (cp_c2(), cp_c2()/unit_k))\n",
    "print(\"c3.9   %9d cp (%5.1f kcp)\" % (cp_c3(), cp_c3()/unit_k))\n",
    "print(\"c4.6   %9d cp (%5.1f kcp)\" % (cp_c4(), cp_c4()/unit_k))\n",
    "print(\"-----\")\n",
    "print(\"r      %9d cp (%5.1f kcp)\" % (cp_r(), cp_r()/unit_k))\n",
    "print(\"r4     %9d cp (%5.1f Mcp)\" % (cp_r4(), cp_r4()/unit_M))\n",
    "print(\"i      %9d cp (%5.1f Mcp)\" % (cp_i(), cp_i()/unit_M))"
   ]
  },
  {
   "cell_type": "code",
   "execution_count": 2,
   "metadata": {},
   "outputs": [
    {
     "name": "stdout",
     "output_type": "stream",
     "text": [
      "\n",
      "Proposed c2/c3/c4 encoding space:\n",
      "---------------------------------\n",
      "Proposed space for each of c2/c3/c4:   8388608 cp (  8.0 Mcp)\n",
      "Total proposed space for c2+c3+c4:    25165824 cp ( 24.0 Mcp)\n",
      "\n",
      "Previously proposed scalar r4 encoding space:\n",
      "---------------------------------------------\n",
      "Half of OP and OP-32 (insn[26] set):  33554432 cp ( 32.0 Mcp)\n",
      "\n",
      "Large free encoding spaces:\n",
      "---------------------------\n",
      "Reserved minor opcodes in OP-IMM-32:  20971520 cp ( 20.0 Mcp)\n",
      "Reserved minor opcodes in MISC-MEM:   20971520 cp ( 20.0 Mcp)\n",
      "Reserved rm values in FMA opcodes:    33554432 cp ( 32.0 Mcp)\n",
      "A single reserved major opcode:       33554432 cp ( 32.0 Mcp)\n",
      "The entire 32-bit encoding space:    939524096 cp (896.0 Mcp)\n"
     ]
    }
   ],
   "source": [
    "def cp_fma_res(opcodes=4):\n",
    "    return opcodes*2*(2**(2+4*5))\n",
    "\n",
    "def cp_minor():\n",
    "    return cp_i()\n",
    "\n",
    "def cp_major():\n",
    "    return 8*cp_i()\n",
    "\n",
    "def cp_inst32():\n",
    "    return 4*7*cp_major()\n",
    "\n",
    "def cp_single_c234():\n",
    "    return 2*cp_minor()\n",
    "\n",
    "def cp_total_c234():\n",
    "    return 3*cp_single_c234()\n",
    "\n",
    "print()\n",
    "print(\"Proposed c2/c3/c4 encoding space:\")\n",
    "print(\"---------------------------------\")\n",
    "print(\"Proposed space for each of c2/c3/c4: %9d cp (%5.1f Mcp)\" % (cp_single_c234(), cp_single_c234()/unit_M))\n",
    "print(\"Total proposed space for c2+c3+c4:   %9d cp (%5.1f Mcp)\" % (cp_total_c234(), cp_total_c234()/unit_M))\n",
    "\n",
    "print()\n",
    "print(\"Previously proposed scalar r4 encoding space:\")\n",
    "print(\"---------------------------------------------\")\n",
    "print(\"Half of OP and OP-32 (insn[26] set): %9d cp (%5.1f Mcp)\" % (cp_major(), cp_major()/unit_M))\n",
    "\n",
    "print()\n",
    "print(\"Large free encoding spaces:\")\n",
    "print(\"---------------------------\")\n",
    "print(\"Reserved minor opcodes in OP-IMM-32: %9d cp (%5.1f Mcp)\" % (5*cp_i(), 5*cp_i()/unit_M))\n",
    "# 000 and 001 in MISC-MEM are FENCE and FENCE.I and there one more reserved opcode for LQ on RV128\n",
    "print(\"Reserved minor opcodes in MISC-MEM:  %9d cp (%5.1f Mcp)\" % (5*cp_minor(), 5*cp_minor()/unit_M))\n",
    "print(\"Reserved rm values in FMA opcodes:   %9d cp (%5.1f Mcp)\" % (cp_fma_res(), cp_fma_res()/unit_M))\n",
    "print(\"A single reserved major opcode:      %9d cp (%5.1f Mcp)\" % (cp_major(), cp_major()/unit_M))\n",
    "print(\"The entire 32-bit encoding space:    %9d cp (%5.1f Mcp)\" % (cp_inst32(), cp_inst32()/unit_M))"
   ]
  },
  {
   "cell_type": "code",
   "execution_count": 3,
   "metadata": {
    "scrolled": true
   },
   "outputs": [
    {
     "name": "stdout",
     "output_type": "stream",
     "text": [
      "\n",
      "Fitting insns in reserved FMA space:\n",
      "------------------------------------\n",
      "c4.0 in reserved FMA space: 8192\n",
      "c4.6 in reserved FMA space: 128\n",
      "r4   in reserved FMA space: 32\n",
      "\n",
      "Fitting insns in reserved FMA space (single major opcode):\n",
      "----------------------------------------------------------\n",
      "c2.0  in reserved FMA space in one major opcode: 131072\n",
      "c3.0  in reserved FMA space in one major opcode: 16384\n",
      "c4.0  in reserved FMA space in one major opcode: 2048\n",
      "-----\n",
      "c2.12 in reserved FMA space in one major opcode: 32\n",
      "c3.9  in reserved FMA space in one major opcode: 32\n",
      "c4.6  in reserved FMA space in one major opcode: 32\n",
      "-----\n",
      "r4    in reserved FMA space in one major opcode: 8\n"
     ]
    }
   ],
   "source": [
    "print()\n",
    "print(\"Fitting insns in reserved FMA space:\")\n",
    "print(\"------------------------------------\")\n",
    "print(\"c4.0 in reserved FMA space: %d\" % (cp_fma_res()/cp_c4(0)))\n",
    "print(\"c4.6 in reserved FMA space: %d\" % (cp_fma_res()/cp_c4(6)))\n",
    "print(\"r4   in reserved FMA space: %d\" % (cp_fma_res()/cp_r4(0)))\n",
    "\n",
    "print()\n",
    "print(\"Fitting insns in reserved FMA space (single major opcode):\")\n",
    "print(\"----------------------------------------------------------\")\n",
    "print(\"c2.0  in reserved FMA space in one major opcode: %d\" % (cp_fma_res(1)/cp_c2(0)))\n",
    "print(\"c3.0  in reserved FMA space in one major opcode: %d\" % (cp_fma_res(1)/cp_c3(0)))\n",
    "print(\"c4.0  in reserved FMA space in one major opcode: %d\" % (cp_fma_res(1)/cp_c4(0)))\n",
    "print(\"-----\")\n",
    "print(\"c2.12 in reserved FMA space in one major opcode: %d\" % (cp_fma_res(1)/cp_c2(12)))\n",
    "print(\"c3.9  in reserved FMA space in one major opcode: %d\" % (cp_fma_res(1)/cp_c3(9)))\n",
    "print(\"c4.6  in reserved FMA space in one major opcode: %d\" % (cp_fma_res(1)/cp_c4(6)))\n",
    "print(\"-----\")\n",
    "print(\"r4    in reserved FMA space in one major opcode: %d\" % (cp_fma_res(1)/cp_r4(0)))"
   ]
  },
  {
   "cell_type": "code",
   "execution_count": 4,
   "metadata": {},
   "outputs": [
    {
     "data": {
      "text/html": [
       "<table><tr><th>Exension</th><th>c2 usage</th><th>c3 usage</th><th>c4 usage</th></tr><tr><th>Zbf</th><td>0.8%</td><td>3.1%</td><td>0.0%</td></tr><tr><th>Zbi</th><td>0.0%</td><td>2.3%</td><td>0.0%</td></tr><tr><th>Zbt</th><td>0.0%</td><td>2.3%</td><td>0.3%</td></tr><tr><th>ex</th><td>6.2%</td><td>12.5%</td><td>0.1%</td></tr><tr><th>total</th><td>7.0%</td><td>18.0%</td><td>0.4%</td></tr></table>"
      ]
     },
     "metadata": {},
     "output_type": "display_data"
    }
   ],
   "source": [
    "from collections import defaultdict\n",
    "data = defaultdict(lambda: {\"c2\":0, \"c3\":0, \"c4\":0})\n",
    "\n",
    "data[\"ex\"][\"c3\"] += cp_c3(9) # MULIADD\n",
    "data[\"ex\"][\"c3\"] += cp_c3(9) # MULIADDW\n",
    "data[\"ex\"][\"c3\"] += cp_c3(9) # ADDIADD\n",
    "data[\"ex\"][\"c3\"] += cp_c3(9) # ADDIADDW\n",
    "\n",
    "data[\"ex\"][\"c2\"] += cp_c2(12) # RSUBI\n",
    "data[\"ex\"][\"c2\"] += cp_c2(12) # RSUBIW\n",
    "\n",
    "data[\"ex\"][\"c4\"] += cp_c4(0)  # ADD3\n",
    "data[\"ex\"][\"c4\"] += cp_c4(0)  # ADD3W\n",
    "\n",
    "data[\"Zbt\"][\"c4\"] += cp_c4(0) # FSL\n",
    "data[\"Zbt\"][\"c4\"] += cp_c4(0) # FSR\n",
    "data[\"Zbt\"][\"c4\"] += cp_c4(0) # SAP\n",
    "data[\"Zbt\"][\"c4\"] += cp_c4(0) # CUT\n",
    "data[\"Zbt\"][\"c4\"] += cp_c4(0) # MUX\n",
    "data[\"Zbt\"][\"c4\"] += cp_c4(0) # MIX\n",
    "\n",
    "data[\"Zbt\"][\"c3\"] += cp_c3(7) # FSRI\n",
    "data[\"Zbt\"][\"c3\"] += cp_c3(7) # SAPI\n",
    "data[\"Zbt\"][\"c3\"] += cp_c3(7) # CUTI\n",
    "\n",
    "data[\"Zbi\"][\"c3\"] += cp_c3(7) # FSRI\n",
    "data[\"Zbi\"][\"c3\"] += cp_c3(7) # SAPI\n",
    "data[\"Zbi\"][\"c3\"] += cp_c3(7) # CUTI\n",
    "\n",
    "data[\"Zbf\"][\"c2\"] += cp_c2(9)  # BFX\n",
    "data[\"Zbf\"][\"c2\"] += cp_c2(9)  # BFXU\n",
    "data[\"Zbf\"][\"c3\"] += cp_c3(9)  # BFP\n",
    "\n",
    "data[\"total\"]\n",
    "for key in data.keys():\n",
    "    if key not in (\"total\", \"Zbi\"):\n",
    "        data[\"total\"][\"c2\"] += data[key][\"c2\"]\n",
    "        data[\"total\"][\"c3\"] += data[key][\"c3\"]\n",
    "        data[\"total\"][\"c4\"] += data[key][\"c4\"]\n",
    "\n",
    "from IPython.display import display_html\n",
    "\n",
    "out = \"<table><tr><th>Exension</th>\"\n",
    "out += \"<th>c2 usage</th>\"\n",
    "out += \"<th>c3 usage</th>\"\n",
    "out += \"<th>c4 usage</th></tr>\"\n",
    "\n",
    "for key in sorted(data.keys()):\n",
    "    out += \"<tr><th>%s</th>\" % key\n",
    "    out += \"<td>%.1f%%</td>\" % (100 * data[key][\"c2\"] / cp_single_c234())\n",
    "    out += \"<td>%.1f%%</td>\" % (100 * data[key][\"c3\"] / cp_single_c234())\n",
    "    out += \"<td>%.1f%%</td></tr>\" % (100 * data[key][\"c4\"] / cp_single_c234())\n",
    "\n",
    "out += \"</table>\"\n",
    "display_html(out, raw=True)"
   ]
  }
 ],
 "metadata": {
  "kernelspec": {
   "display_name": "Python 3",
   "language": "python",
   "name": "python3"
  },
  "language_info": {
   "codemirror_mode": {
    "name": "ipython",
    "version": 3
   },
   "file_extension": ".py",
   "mimetype": "text/x-python",
   "name": "python",
   "nbconvert_exporter": "python",
   "pygments_lexer": "ipython3",
   "version": "3.8.5"
  }
 },
 "nbformat": 4,
 "nbformat_minor": 4
}
