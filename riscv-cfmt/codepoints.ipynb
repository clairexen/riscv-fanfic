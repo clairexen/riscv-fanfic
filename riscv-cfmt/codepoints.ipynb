{
 "cells": [
  {
   "cell_type": "code",
   "execution_count": 1,
   "metadata": {},
   "outputs": [
    {
     "name": "stdout",
     "output_type": "stream",
     "text": [
      "c2.0          64 cp\n",
      "c3.0         512 cp (  0.5 kcp)\n",
      "c4.0        4096 cp (  4.0 kcp)\n",
      "-----\n",
      "c2.12     262144 cp (256.0 kcp)\n",
      "c3.9      262144 cp (256.0 kcp)\n",
      "c4.6      262144 cp (256.0 kcp)\n",
      "-----\n",
      "r4       1048576 cp (  1.0 Mcp)\n",
      "\n",
      "c4.0 in reserved FMA space: 8192\n",
      "c4.6 in reserved FMA space: 128\n",
      "r4   in reserved FMA space: 32\n",
      "\n",
      "c2.0  in reserved FMA space in one opcode: 131072\n",
      "c3.0  in reserved FMA space in one opcode: 16384\n",
      "c4    in reserved FMA space in one opcode: 2048\n",
      "-----\n",
      "c2.12 in reserved FMA space in one opcode: 32\n",
      "c3.9  in reserved FMA space in one opcode: 32\n",
      "c4.6  in reserved FMA space in one opcode: 32\n",
      "-----\n",
      "r4    in reserved FMA space in one opcode: 8\n"
     ]
    }
   ],
   "source": [
    "unit_k = 1024\n",
    "unit_M = 1024*1024\n",
    "\n",
    "def cp_c2(immsz=12):\n",
    "    return 2**(2*3+immsz)\n",
    "\n",
    "def cp_c3(immsz=9):\n",
    "    return 2**(3*3+immsz)\n",
    "\n",
    "def cp_c4(immsz=6):\n",
    "    return 2**(4*3+immsz)\n",
    "\n",
    "def cp_r4(immsz=0):\n",
    "    return 2**(4*5+immsz)\n",
    "\n",
    "def cp_fma_res(opcodes=4):\n",
    "    return opcodes*2*(2**(2+4*5))\n",
    "\n",
    "print(\"c2.0   %9d cp\" % (cp_c2(0)))\n",
    "print(\"c3.0   %9d cp (%5.1f kcp)\" % (cp_c3(0), cp_c3(0)/unit_k))\n",
    "print(\"c4.0   %9d cp (%5.1f kcp)\" % (cp_c4(0), cp_c4(0)/unit_k))\n",
    "print(\"-----\")\n",
    "print(\"c2.12  %9d cp (%5.1f kcp)\" % (cp_c2(), cp_c2()/unit_k))\n",
    "print(\"c3.9   %9d cp (%5.1f kcp)\" % (cp_c3(), cp_c3()/unit_k))\n",
    "print(\"c4.6   %9d cp (%5.1f kcp)\" % (cp_c4(), cp_c4()/unit_k))\n",
    "print(\"-----\")\n",
    "print(\"r4     %9d cp (%5.1f Mcp)\" % (cp_r4(0), cp_r4(0)/unit_M))\n",
    "\n",
    "print()\n",
    "print(\"c4.0 in reserved FMA space: %d\" % (cp_fma_res()/cp_c4(0)))\n",
    "print(\"c4.6 in reserved FMA space: %d\" % (cp_fma_res()/cp_c4(6)))\n",
    "print(\"r4   in reserved FMA space: %d\" % (cp_fma_res()/cp_r4(0)))\n",
    "\n",
    "print()\n",
    "print(\"c2.0  in reserved FMA space in one opcode: %d\" % (cp_fma_res(1)/cp_c2(0)))\n",
    "print(\"c3.0  in reserved FMA space in one opcode: %d\" % (cp_fma_res(1)/cp_c3(0)))\n",
    "print(\"c4    in reserved FMA space in one opcode: %d\" % (cp_fma_res(1)/cp_c4(0)))\n",
    "print(\"-----\")\n",
    "print(\"c2.12 in reserved FMA space in one opcode: %d\" % (cp_fma_res(1)/cp_c2(12)))\n",
    "print(\"c3.9  in reserved FMA space in one opcode: %d\" % (cp_fma_res(1)/cp_c3(9)))\n",
    "print(\"c4.6  in reserved FMA space in one opcode: %d\" % (cp_fma_res(1)/cp_c4(6)))\n",
    "print(\"-----\")\n",
    "print(\"r4    in reserved FMA space in one opcode: %d\" % (cp_fma_res(1)/cp_r4(0)))"
   ]
  }
 ],
 "metadata": {
  "kernelspec": {
   "display_name": "Python 3",
   "language": "python",
   "name": "python3"
  },
  "language_info": {
   "codemirror_mode": {
    "name": "ipython",
    "version": 3
   },
   "file_extension": ".py",
   "mimetype": "text/x-python",
   "name": "python",
   "nbconvert_exporter": "python",
   "pygments_lexer": "ipython3",
   "version": "3.8.5"
  }
 },
 "nbformat": 4,
 "nbformat_minor": 4
}
